{
 "cells": [
  {
   "cell_type": "code",
   "execution_count": 11,
   "metadata": {
    "_cell_guid": "b1076dfc-b9ad-4769-8c92-a6c4dae69d19",
    "_uuid": "8f2839f25d086af736a60e9eeb907d3b93b6e0e5",
    "collapsed": true
   },
   "outputs": [],
   "source": [
    "import pandas as pd\n",
    "pd.set_option('max_rows',200)\n",
    "pd.set_option('max_columns',100)\n",
    "import numpy as np\n",
    "import matplotlib.pyplot as plt\n",
    "%matplotlib inline"
   ]
  },
  {
   "cell_type": "markdown",
   "metadata": {
    "_cell_guid": "84d0c3ea-2cd0-49ff-b0eb-97c2630462bb",
    "_uuid": "8b867ab256d64fc996fd335a3c3a191f17af4a1c"
   },
   "source": [
    "Matches City "
   ]
  },
  {
   "cell_type": "code",
   "execution_count": 12,
   "metadata": {
    "_cell_guid": "79c7e3d0-c299-4dcb-8224-4455121ee9b0",
    "_uuid": "d629ff2d2480ee46fbb7e2d37f6b5fab8052498a",
    "collapsed": true
   },
   "outputs": [],
   "source": [
    "deliveries = pd.read_csv('../input/deliveries.csv')\n",
    "matches = pd.read_csv('../input/matches.csv')\n",
    "city = matches.groupby([matches.city,matches.venue]).venue.count().sort_values(ascending=False)\n",
    "city_df = pd.DataFrame(city)\n",
    "city_df.columns = ['count']\n",
    "#print(city_df)"
   ]
  },
  {
   "cell_type": "code",
   "execution_count": 13,
   "metadata": {
    "_cell_guid": "55a76114-f2fb-4cca-8834-2aa5c84dcaca",
    "_uuid": "8ff8c28e75313ce45134ed854c6cbe6766f06e78",
    "collapsed": true
   },
   "outputs": [],
   "source": [
    "matches.city.fillna('unknown',inplace=True)\n",
    "matches.winner.fillna('draw',inplace=True)\n",
    "matches.player_of_match.fillna('draw',inplace=True)"
   ]
  },
  {
   "cell_type": "markdown",
   "metadata": {
    "_cell_guid": "2b55ccbd-fbb5-4c6d-8faf-44292b38e15e",
    "_uuid": "c0ffbaf43c02b60afdfe901257e69fdca2a05843"
   },
   "source": [
    "**Matches Win by a Team**"
   ]
  },
  {
   "cell_type": "code",
   "execution_count": 14,
   "metadata": {
    "_cell_guid": "a09e8d09-1103-4bfd-a433-76c71c4b4479",
    "_uuid": "ed0f907d1b74e81ec3ed777538de16ea3181dfb6"
   },
   "outputs": [],
   "source": [
    "winner = matches.groupby(matches.winner).winner.count().sort_values(ascending=False)\n",
    "#print(winner)\n",
    "winner.plot(kind='bar')"
   ]
  },
  {
   "cell_type": "markdown",
   "metadata": {
    "_cell_guid": "403ff8a6-6462-40af-a41b-f4e13c07e671",
    "_uuid": "4acfa4ae1ae2dbb1651cd2dc48e878866991504c"
   },
   "source": [
    "**Player of the match award**"
   ]
  },
  {
   "cell_type": "code",
   "execution_count": 15,
   "metadata": {
    "_cell_guid": "bd3329eb-a9f5-4a9a-96e7-790e27c4ecfb",
    "_uuid": "7518f62376ba0c0bcfa9602eb6797732e28edd80"
   },
   "outputs": [],
   "source": [
    "s_man_of_match = matches.groupby(matches.player_of_match).player_of_match.count().sort_values(ascending=False).head(15)\n",
    "df_man_of_match =s_man_of_match.to_frame()\n",
    "df_man_of_match"
   ]
  },
  {
   "cell_type": "markdown",
   "metadata": {
    "_cell_guid": "63db043c-f33d-485f-b6d0-65512795561f",
    "_uuid": "cf42228ee3713ac89cd0ddcc6df91f4528ace2ba"
   },
   "source": [
    "> **Batsman Stats**"
   ]
  },
  {
   "cell_type": "code",
   "execution_count": 16,
   "metadata": {
    "_cell_guid": "42c13b6e-aeb8-44e4-93f9-37482fc25af7",
    "_uuid": "80b3e515883fa44965ebc4127390bfb3786ebcb8",
    "scrolled": false
   },
   "outputs": [],
   "source": [
    "#deliveries.groupby(deliveries.batsman).batsman_runs.sum().sort_values(ascending=False).head(15)\n",
    "df_strike_rate = deliveries.groupby(['batsman']).agg({'ball':'count','batsman_runs':'mean'}).sort_values(by='batsman_runs',ascending=False)\n",
    "df_strike_rate.rename(columns ={'batsman_runs' : 'strike rate'}, inplace=True)\n",
    "df_runs_per_match = deliveries.groupby(['batsman','match_id']).agg({'batsman_runs':'sum'})\n",
    "df_total_runs = df_runs_per_match.groupby(['batsman']).agg({'sum' ,'mean','count'})\n",
    "df_total_runs.rename(columns ={'sum' : 'batsman run','count' : 'match count','mean' :'average score'}, inplace=True)\n",
    "df_total_runs.columns = df_total_runs.columns.droplevel()\n",
    "df_sixes = deliveries[['batsman','batsman_runs']][deliveries.batsman_runs==6].groupby(['batsman']).agg({'batsman_runs':'count'})\n",
    "df_four = deliveries[['batsman','batsman_runs']][deliveries.batsman_runs==4].groupby(['batsman']).agg({'batsman_runs':'count'})\n",
    "df_batsman_stat = pd.merge(pd.merge(pd.merge(df_strike_rate,df_total_runs, left_index=True, right_index=True),df_sixes, left_index=True, right_index=True),df_four, left_index=True, right_index=True)\n",
    "#print(df_batsman_stat)\n",
    "df_batsman_stat.rename(columns = {'ball' : 'Ball', 'strike rate':'Strike Rate','batsman run' : 'Batsman Run','match count' : 'Match Count','average score' : 'Average score' ,'batsman_runs_x' :'Six','batsman_runs_y':'Four'},inplace=True)\n",
    "df_batsman_stat['Strike Rate'] = df_batsman_stat['Strike Rate']*100\n",
    "df_batsman_stat.sort_values(by='Batsman Run',ascending=False).head(25)\n"
   ]
  },
  {
   "cell_type": "markdown",
   "metadata": {
    "_cell_guid": "834a20ce-97ec-4e40-9a43-0356dc7a1e0a",
    "_uuid": "b3c18abca817df90e0ef7dc90693f9133c81ba23"
   },
   "source": [
    "**Bowler Stats**"
   ]
  },
  {
   "cell_type": "code",
   "execution_count": 17,
   "metadata": {
    "_cell_guid": "500a9e32-c77b-4dc6-be35-813e2a5192fa",
    "_uuid": "ed8c8dc06e6d30f1f3e0587e1ec5303cf4e9e5cf"
   },
   "outputs": [],
   "source": [
    "condition = (deliveries.dismissal_kind.notnull()) &(deliveries.dismissal_kind != 'run out')&(deliveries.dismissal_kind != 'retired hurt')\n",
    "condition_fielding = (deliveries.dismissal_kind == 'caught') | (deliveries.dismissal_kind == 'run out')\n",
    "df_bowlers = deliveries.loc[condition,:].groupby(deliveries.bowler).dismissal_kind.count().sort_values(ascending=False)\n",
    "df_runs_match = deliveries.groupby(['bowler','match_id']).agg({'total_runs':'sum','ball':'count',})\n",
    "#df_runs_matchs = df_runs_match.columns.droplevel()\n",
    "#df_bowlers.head(15)\n",
    "df_runs_match.total_runs = df_runs_match.total_runs\n",
    "df_runs_match['run_Rate'] = df_runs_match.total_runs/df_runs_match.ball*6\n",
    "#df_runRate = df_runRate.groupby(['bowler']).agg({'run_Rate':'sum'})\n",
    "\n",
    "#df_runs_match.sort_values(by='total_runs',ascending=True)\n",
    "df_runRate = df_runs_match.run_Rate.groupby(['bowler']).agg({'mean'})\n",
    "df_bowlers = pd.merge(df_bowlers.to_frame(),df_runRate , how='inner', left_index=True, right_index=True)\n",
    "df_bowlers.rename({'mean':'Run Rate'}, axis=1, inplace=True)\n",
    "df_bowlers"
   ]
  },
  {
   "cell_type": "markdown",
   "metadata": {
    "_cell_guid": "50ecb3ec-cb86-445b-a959-78750b4ece78",
    "_uuid": "3a46bb18732104673a07cc6e642ff7348a8fbedd"
   },
   "source": [
    "**Fielding Stats**"
   ]
  },
  {
   "cell_type": "code",
   "execution_count": 18,
   "metadata": {
    "_cell_guid": "0bfa7593-696d-455f-892c-1ff92f116058",
    "_uuid": "9e6dd986ee2679f40046b45af92a269bb0dbe6de"
   },
   "outputs": [],
   "source": [
    "s_fielding = deliveries.loc[condition_fielding,:].groupby(deliveries.fielder).dismissal_kind.count().sort_values(ascending=False)\n",
    "df_fielding= s_fielding.to_frame()\n",
    "df_fielding.columns = ['fielding']\n",
    "df_fielding.head(15)"
   ]
  },
  {
   "cell_type": "markdown",
   "metadata": {
    "_cell_guid": "541a8a81-0377-4029-8b9d-cdb8dd192979",
    "_uuid": "71e9a5b1cee3273ddd21043228fd8b5c27960b01"
   },
   "source": [
    "**Player Performance Throughout**\n",
    "\n",
    "Rules for Points:\n",
    "\n",
    "Batting\n",
    "*     Base Points :1 point per run.\n",
    "*     2 points for every six\n",
    "\n",
    "Bowling\n",
    "* Base Points :20 points per wicket taken.\n",
    "\n",
    "fielding\n",
    "*10 points for each catch resulting in a fall of wicket.\n",
    "* 10 points for a run-out and stumping\n",
    "\n",
    "Bonus Point\n",
    "* 25 points for being declared the Man of the Match ;"
   ]
  },
  {
   "cell_type": "code",
   "execution_count": 19,
   "metadata": {
    "_cell_guid": "efa1b548-a52e-4cb5-a72b-550f1085c301",
    "_uuid": "1991db56c38bdcf50b5431f0ceacd44b4ca17dca"
   },
   "outputs": [],
   "source": [
    "#df_points = g5[['ball','Strike Rate','match count','average score','batsman run','six','Man of Match']]\n",
    "df_points = df_batsman_stat[['Ball','Strike Rate','Average score','Batsman Run','Six']]\n",
    "#print(df_points.head(10))\n",
    "df_points['Six pts'] = df_points['Six']*2\n",
    "df_points = pd.merge(pd.merge(df_points.merge(df_bowlers, left_index=True, right_index=True), df_fielding, left_index=True, right_index=True, how='left'), df_man_of_match, left_index=True, right_index=True, how='outer')\n",
    "df_points.fillna(value=0, inplace=True)\n",
    "df_points['dismissal_kind'] = df_points['dismissal_kind'] *20\n",
    "df_points['fielding'] = df_points['fielding'] *10\n",
    "#print(df_points.head(10))\n",
    "df_points['Man of Match pts'] = df_points['player_of_match']*25\n",
    "df_points['Total Point'] = df_points['Batsman Run']+ df_points['Six']+df_points['dismissal_kind']+df_points['Man of Match pts']+df_points['fielding']\n",
    "df_points = df_points.drop('player_of_match',1)\n",
    "df_points = df_points.drop('Six',1)\n",
    "df_points.rename({'dismissal_kind':'bowling pts'}, axis=1, inplace=True)\n",
    "df_points.rename({'fielding':'fielding pts'}, axis=1, inplace=True)\n",
    "df_points.rename({'batsman run':'batsman run pts'}, axis=1, inplace=True)\n",
    "#df_points['Points per match'] =df_points['Total Point']/df_points['match count']\n",
    "df_points.sort_values(by='Total Point',ascending=False,inplace=True)\n",
    "df_points.head(25)"
   ]
  },
  {
   "cell_type": "markdown",
   "metadata": {
    "_cell_guid": "ed530621-9f7a-4f5a-a10c-c7e6cb1a38b8",
    "_uuid": "d46e54304da25ffe0a8d08f79459d83a41045d91"
   },
   "source": [
    "Join the table"
   ]
  },
  {
   "cell_type": "code",
   "execution_count": 20,
   "metadata": {
    "_cell_guid": "6e6045df-ba63-4e4f-91b4-37e404da8792",
    "_uuid": "cdbc4c9dae151c4c5e5b0400b60886af9b64c7ad",
    "collapsed": true
   },
   "outputs": [],
   "source": [
    "combined_df = pd.merge(deliveries, matches, how='outer', left_on='match_id', right_on='id')"
   ]
  },
  {
   "cell_type": "markdown",
   "metadata": {
    "_cell_guid": "0ec1a951-156d-4672-8da7-bd145e864c50",
    "_uuid": "3219fffca870cb2c0a2d1b8fdeb8b6a38d6c4a00"
   },
   "source": [
    "**Top Batsman Based on the stadium**\n",
    "*venue -  name of the stadium*"
   ]
  },
  {
   "cell_type": "code",
   "execution_count": 21,
   "metadata": {
    "_cell_guid": "2ccf5568-5a1c-49b7-b51c-14875d6a8231",
    "_uuid": "2fe90ade720120c6d5d06fccc06c663966f27917",
    "scrolled": true
   },
   "outputs": [],
   "source": [
    "venue = 'Wankhede Stadium'\n",
    "stadium_df = combined_df[:][combined_df.venue == venue]\n",
    "rating_batsman  = stadium_df.groupby(stadium_df.batsman).batsman_runs.sum().sort_values(ascending=False).head(10)\n",
    "#rating_batsman.plot(kind='bar')\n",
    "print(rating_batsman)"
   ]
  },
  {
   "cell_type": "code",
   "execution_count": 22,
   "metadata": {
    "_cell_guid": "2000eee4-c729-4713-b3b8-ebc68006b09c",
    "_uuid": "9cf6e38edae5399b2e2efb0f7384576f470eecf9"
   },
   "outputs": [],
   "source": [
    "condition = (stadium_df.dismissal_kind.notnull()) &(stadium_df.dismissal_kind != 'run out')&(stadium_df.dismissal_kind != 'retired hurt')&(stadium_df.dismissal_kind != 'notout')\n",
    "\n",
    "rating_bowler  = stadium_df.loc[condition,:].groupby(stadium_df.bowler).dismissal_kind.count().sort_values(ascending=False).head(10)\n",
    "rating_bowler.plot(kind='bar')"
   ]
  },
  {
   "cell_type": "code",
   "execution_count": null,
   "metadata": {
    "_cell_guid": "95f866b4-3721-4ee9-8537-e038dc9effb9",
    "_uuid": "b6cbf5a83831eabcee36fe9ca32fdd13d01f6db6",
    "collapsed": true
   },
   "outputs": [],
   "source": []
  }
 ],
 "metadata": {
  "kernelspec": {
   "display_name": "Python 3",
   "language": "python",
   "name": "python3"
  },
  "language_info": {
   "codemirror_mode": {
    "name": "ipython",
    "version": 3
   },
   "file_extension": ".py",
   "mimetype": "text/x-python",
   "name": "python",
   "nbconvert_exporter": "python",
   "pygments_lexer": "ipython3",
   "version": "3.6.5"
  }
 },
 "nbformat": 4,
 "nbformat_minor": 1
}
